{
 "cells": [
  {
   "cell_type": "code",
   "execution_count": null,
   "id": "000c4608",
   "metadata": {},
   "outputs": [],
   "source": [
    "homework: \n",
    "Study: how to create flow chart\n",
    "Add your point to one jupyter notebook\n",
    "use the link \n",
    "https://app.diagrams.net\n",
    "    \n",
    "BB: Santosh, Shiva Sankar \n",
    "RSI: Soumadeep, Rishi\n",
    "ROC: Nitul\n",
    "MACD: Shobhit, Louis"
   ]
  },
  {
   "cell_type": "markdown",
   "id": "58338411",
   "metadata": {},
   "source": [
    "[flow chart](https://app.diagrams.net)"
   ]
  },
  {
   "cell_type": "code",
   "execution_count": null,
   "id": "44c1df27",
   "metadata": {},
   "outputs": [],
   "source": []
  }
 ],
 "metadata": {
  "kernelspec": {
   "display_name": "Python 3 (ipykernel)",
   "language": "python",
   "name": "python3"
  },
  "language_info": {
   "codemirror_mode": {
    "name": "ipython",
    "version": 3
   },
   "file_extension": ".py",
   "mimetype": "text/x-python",
   "name": "python",
   "nbconvert_exporter": "python",
   "pygments_lexer": "ipython3",
   "version": "3.9.7"
  }
 },
 "nbformat": 4,
 "nbformat_minor": 5
}
