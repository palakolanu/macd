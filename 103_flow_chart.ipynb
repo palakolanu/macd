{
 "cells": [
  {
   "cell_type": "markdown",
   "id": "5e92079a",
   "metadata": {},
   "source": [
    "[flow chart](https://app.diagrams.net/)"
   ]
  },
  {
   "cell_type": "markdown",
   "id": "a759a654",
   "metadata": {},
   "source": [
    "### MACD flow chart\n"
   ]
  },
  {
   "cell_type": "markdown",
   "id": "75327ac1",
   "metadata": {},
   "source": [
    "### RSI Flow chart"
   ]
  },
  {
   "cell_type": "markdown",
   "id": "bb815ea1",
   "metadata": {},
   "source": [
    "### ROC Flow chart"
   ]
  },
  {
   "cell_type": "markdown",
   "id": "f95f12c9",
   "metadata": {},
   "source": [
    "### BB Flow Chart"
   ]
  },
  {
   "cell_type": "code",
   "execution_count": null,
   "id": "271553c5",
   "metadata": {},
   "outputs": [],
   "source": []
  }
 ],
 "metadata": {
  "kernelspec": {
   "display_name": "Python 3 (ipykernel)",
   "language": "python",
   "name": "python3"
  },
  "language_info": {
   "codemirror_mode": {
    "name": "ipython",
    "version": 3
   },
   "file_extension": ".py",
   "mimetype": "text/x-python",
   "name": "python",
   "nbconvert_exporter": "python",
   "pygments_lexer": "ipython3",
   "version": "3.9.7"
  }
 },
 "nbformat": 4,
 "nbformat_minor": 5
}
